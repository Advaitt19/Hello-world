{
  "nbformat": 4,
  "nbformat_minor": 0,
  "metadata": {
    "colab": {
      "provenance": [],
      "authorship_tag": "ABX9TyM1kx0ZrtdPqoa5YqQu/N8w",
      "include_colab_link": true
    },
    "kernelspec": {
      "name": "python3",
      "display_name": "Python 3"
    },
    "language_info": {
      "name": "python"
    }
  },
  "cells": [
    {
      "cell_type": "markdown",
      "metadata": {
        "id": "view-in-github",
        "colab_type": "text"
      },
      "source": [
        "<a href=\"https://colab.research.google.com/github/Advaitt19/Hello-world/blob/Classification_stars/App_astronomy.ipynb\" target=\"_parent\"><img src=\"https://colab.research.google.com/assets/colab-badge.svg\" alt=\"Open In Colab\"/></a>"
      ]
    },
    {
      "cell_type": "code",
      "execution_count": 4,
      "metadata": {
        "colab": {
          "base_uri": "https://localhost:8080/",
          "height": 646
        },
        "id": "rCI5ietWNFuF",
        "outputId": "7ddfb879-38db-4c98-b04c-faacf6b9c1c6"
      },
      "outputs": [
        {
          "output_type": "stream",
          "name": "stdout",
          "text": [
            "It looks like you are running Gradio on a hosted Jupyter notebook, which requires `share=True`. Automatically setting `share=True` (you can turn this off by setting `share=False` in `launch()` explicitly).\n",
            "\n",
            "Colab notebook detected. To show errors in colab notebook, set debug=True in launch()\n",
            "* Running on public URL: https://e1308163c52ff72e91.gradio.live\n",
            "\n",
            "This share link expires in 1 week. For free permanent hosting and GPU upgrades, run `gradio deploy` from the terminal in the working directory to deploy to Hugging Face Spaces (https://huggingface.co/spaces)\n"
          ]
        },
        {
          "output_type": "display_data",
          "data": {
            "text/plain": [
              "<IPython.core.display.HTML object>"
            ],
            "text/html": [
              "<div><iframe src=\"https://e1308163c52ff72e91.gradio.live\" width=\"100%\" height=\"500\" allow=\"autoplay; camera; microphone; clipboard-read; clipboard-write;\" frameborder=\"0\" allowfullscreen></iframe></div>"
            ]
          },
          "metadata": {}
        },
        {
          "output_type": "execute_result",
          "data": {
            "text/plain": []
          },
          "metadata": {},
          "execution_count": 4
        }
      ],
      "source": [
        "import gradio as gr\n",
        "import pandas as pd\n",
        "import numpy as np\n",
        "import joblib\n",
        "\n",
        "# Load model (assuming label encoder is not needed for custom labels)\n",
        "Model = joblib.load(\"astro_model.pkl\")\n",
        "# le = joblib.load(\"label_encoder.pkl\") # Label encoder is no longer needed\n",
        "\n",
        "def classify_object(u, g, r, i, z, redshift):\n",
        "    # Derived features\n",
        "    ug = u - g\n",
        "    gr = g - r\n",
        "    ri = r - i\n",
        "    iz = i - z\n",
        "    ur = u - r\n",
        "    log_redshift = np.log1p(redshift)\n",
        "\n",
        "    # Create input dataframe\n",
        "    new_data = pd.DataFrame({\n",
        "        \"u\": [u],\n",
        "        \"g\": [g],\n",
        "        \"r\": [r],\n",
        "        \"i\": [i],\n",
        "        \"z\": [z],\n",
        "        \"redshift\": [redshift],\n",
        "        \"ug\": [ug],\n",
        "        \"gr\": [gr],\n",
        "        \"ri\": [ri],\n",
        "        \"iz\": [iz],\n",
        "        \"ur\": [ur],\n",
        "        \"log_redshift\": [log_redshift],\n",
        "    })\n",
        "\n",
        "    pred = Model.predict(new_data)[0] # Get the single prediction\n",
        "\n",
        "    # Map numerical prediction to custom labels\n",
        "    label_map = {0: \"GALAXY\", 1: \"QSO\", 2: \"STARS\"}\n",
        "    decoded = label_map.get(pred, \"Unknown Class\") # Use .get() for safe lookup\n",
        "\n",
        "    return f\"Predicted Class: {decoded}\"\n",
        "\n",
        "# Create Gradio interface\n",
        "inputs = [\n",
        "    gr.Number(label=\"u\", value=20.0),\n",
        "    gr.Number(label=\"g\", value=19.0),\n",
        "    gr.Number(label=\"r\", value=18.0),\n",
        "    gr.Number(label=\"i\", value=17.0),\n",
        "    gr.Number(label=\"z\", value=16.0),\n",
        "    gr.Number(label=\"redshift\", value=100.0),\n",
        "]\n",
        "\n",
        "output = gr.Textbox(label=\"Prediction\")\n",
        "\n",
        "gr.Interface(fn=classify_object, inputs=inputs, outputs=output, title=\"Astronomical Object Classifier\",\n",
        "             description=\"Enter the values below to predict whether the object is a Galaxy, Star, or QSO.\").launch()"
      ]
    }
  ]
}